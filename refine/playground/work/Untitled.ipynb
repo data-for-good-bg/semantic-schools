{
 "cells": [
  {
   "cell_type": "code",
   "execution_count": 1,
   "id": "d1e924eb-9c14-4653-9940-b147bf624183",
   "metadata": {},
   "outputs": [],
   "source": [
    "import pandas as pd\n"
   ]
  },
  {
   "cell_type": "code",
   "execution_count": 2,
   "id": "bea90a56-59b1-48b2-bfb1-06e4251f5c84",
   "metadata": {},
   "outputs": [],
   "source": [
    "with open('dzi-2022-bd8b058b-d1c0-4396-bd05-e67d7fb65afa.csv', 'rt') as f:\n",
    "    data = pd.read_csv(f)"
   ]
  },
  {
   "cell_type": "code",
   "execution_count": 22,
   "id": "ce9451c5-a7f2-40f7-8a4c-a72e9836e84b",
   "metadata": {},
   "outputs": [
    {
     "data": {
      "text/plain": [
       "7      5.46\n",
       "8      4.83\n",
       "16        (\n",
       "59     5.42\n",
       "109    4.16\n",
       "111    5.67\n",
       "113    5.46\n",
       "114    5.73\n",
       "115    3.57\n",
       "147     3.1\n",
       "148    4.57\n",
       "173    4.36\n",
       "230    4.66\n",
       "231    4.27\n",
       "253    5.06\n",
       "282       5\n",
       "316    5.04\n",
       "347    5.23\n",
       "360    4.04\n",
       "374    5.38\n",
       "398    4.61\n",
       "424    5.09\n",
       "473    4.54\n",
       "489    5.68\n",
       "494    5.19\n",
       "495    5.17\n",
       "537    4.92\n",
       "551    4.32\n",
       "552    4.33\n",
       "581    4.94\n",
       "608    4.92\n",
       "632    4.27\n",
       "645    5.84\n",
       "654    5.19\n",
       "657    5.41\n",
       "664       6\n",
       "665    5.84\n",
       "693    4.13\n",
       "697    4.95\n",
       "714    4.63\n",
       "735     5.5\n",
       "756    4.48\n",
       "766    4.26\n",
       "774    5.08\n",
       "813    4.82\n",
       "815    4.65\n",
       "859    5.33\n",
       "898    4.61\n",
       "925    4.83\n",
       "930    3.64\n",
       "Name: Ср.усп. НЕ(ПП) B2-З, dtype: object"
      ]
     },
     "execution_count": 22,
     "metadata": {},
     "output_type": "execute_result"
    }
   ],
   "source": [
    "c = data['Ср.усп. НЕ(ПП) B2-З'].replace(',', '.', regex=True)\n",
    "c[c.notnull()]"
   ]
  },
  {
   "cell_type": "code",
   "execution_count": null,
   "id": "bd66dc60-f1df-4de6-b6b4-1fe34b021d59",
   "metadata": {},
   "outputs": [],
   "source": []
  }
 ],
 "metadata": {
  "kernelspec": {
   "display_name": "Python 3 (ipykernel)",
   "language": "python",
   "name": "python3"
  },
  "language_info": {
   "codemirror_mode": {
    "name": "ipython",
    "version": 3
   },
   "file_extension": ".py",
   "mimetype": "text/x-python",
   "name": "python",
   "nbconvert_exporter": "python",
   "pygments_lexer": "ipython3",
   "version": "3.11.9"
  }
 },
 "nbformat": 4,
 "nbformat_minor": 5
}
